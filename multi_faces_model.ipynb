{
 "cells": [
  {
   "cell_type": "code",
   "execution_count": null,
   "metadata": {},
   "outputs": [],
   "source": [
    "\"Multi face mask detection"
   ]
  },
  {
   "cell_type": "code",
   "execution_count": 1,
   "metadata": {
    "tags": []
   },
   "outputs": [],
   "source": [
    "# import the necessary packages\n",
    "import tensorflow as tf\n",
    "from tensorflow.keras.preprocessing.image import ImageDataGenerator\n",
    "from tensorflow.keras.models import model_from_json\n",
    "from tensorflow.keras.applications.mobilenet_v2 import preprocess_input\n",
    "from tensorflow.keras.preprocessing.image import img_to_array\n",
    "from tensorflow.keras.models import load_model\n",
    "from imutils.video import VideoStream\n",
    "import imutils\n",
    "import numpy as np\n",
    "import argparse\n",
    "import os\n",
    "from utils import *"
   ]
  },
  {
   "cell_type": "code",
   "execution_count": 2,
   "metadata": {},
   "outputs": [
    {
     "output_type": "stream",
     "name": "stdout",
     "text": [
      "Loaded model from disk\n"
     ]
    }
   ],
   "source": [
    "# Load the model\n",
    "\n",
    "json_file = open('model_3class.json', 'r')\n",
    "loaded_model_json = json_file.read()\n",
    "json_file.close()# load json and create model\n",
    "\n",
    "model = model_from_json(loaded_model_json)\n",
    "# load weights into new model\n",
    "model.load_weights(\"model_3class.h5\")\n",
    "print(\"Loaded model from disk\")"
   ]
  },
  {
   "cell_type": "code",
   "execution_count": 4,
   "metadata": {
    "tags": []
   },
   "outputs": [
    {
     "output_type": "stream",
     "name": "stdout",
     "text": [
      "[INFO] loading face detector model...\n"
     ]
    }
   ],
   "source": [
    "# load our serialized face detector model from disk\n",
    "print(\"[INFO] loading face detector model...\")\n",
    "cfg_path = 'weights/yolov3-face.cfg'\n",
    "weights_path = 'weights/yolov3-wider_16000.weights'"
   ]
  },
  {
   "cell_type": "code",
   "execution_count": 5,
   "metadata": {},
   "outputs": [],
   "source": [
    "net = cv2.dnn.readNetFromDarknet(cfg_path, weights_path)\n",
    "net.setPreferableBackend(cv2.dnn.DNN_BACKEND_OPENCV)\n",
    "net.setPreferableTarget(cv2.dnn.DNN_TARGET_CPU)"
   ]
  },
  {
   "cell_type": "code",
   "execution_count": 8,
   "metadata": {},
   "outputs": [
    {
     "output_type": "stream",
     "name": "stdout",
     "text": [
      "[i] ==> # detected faces: 4\n############################################################\n"
     ]
    }
   ],
   "source": [
    "#Load the image you want to test\n",
    "image = cv2.imread('inputs/images/pic2.jpg')\n",
    "#image = cv2.imread('inputs/images/img5.jpeg')\n",
    "orig = image.copy()\n",
    "\n",
    "    \n",
    "# Create a 4D blob from a frame.\n",
    "blob = cv2.dnn.blobFromImage(image, 1 / 255, (IMG_WIDTH, IMG_HEIGHT), [0, 0, 0], 1, crop=False)\n",
    "\n",
    "# Sets the input to the network\n",
    "net.setInput(blob)\n",
    "\n",
    "# Runs the forward pass to get output of the output layers\n",
    "outs = net.forward(get_outputs_names(net))\n",
    "\n",
    "# Remove the bounding boxes with low confidence\n",
    "faces = post_process(image, outs, CONF_THRESHOLD, NMS_THRESHOLD)\n",
    "print('[i] ==> # detected faces: {}'.format(len(faces)))\n",
    "print('#' * 60)\n",
    "\n",
    "# initialize the set of information we'll displaying on the frame\n",
    "info = [\n",
    "    ('number of faces detected', '{}'.format(len(faces)))\n",
    "]\n",
    "\n",
    "for face in faces:\n",
    "    left, top, width, height = face[0], face[1], face[2], face[3]\n",
    "    startX, startY, endX, endY = left, top, left+width, top+height\n",
    "    face = image[startY:endY, startX:endX]\n",
    "    #face = cv2.cvtColor(face, cv2.COLOR_BGR2RGB)\n",
    "    face = cv2.resize(face, (224, 224))\n",
    "    face = img_to_array(face)\n",
    "    face = preprocess_input(face)\n",
    "    face = np.expand_dims(face, axis=0)\n",
    "\n",
    "    # pass the face through the model to determine if the face\n",
    "    # has a mask or not\n",
    "    (notCorrect,mask, withoutMask ) = model.predict(face)[0]\n",
    "\n",
    "    # determine the class label and color we'll use to draw\n",
    "    # the bounding box and text\n",
    "    if (mask < 0.90 and withoutMask < 0.90) or notCorrect > max(mask, withoutMask):\n",
    "            label, color = \"Not correct\", (0, 255, 255)\n",
    "    elif mask > max (withoutMask, notCorrect):\n",
    "        label, color = \"Mask\", (0, 255,0)\n",
    "    elif withoutMask > max (mask, notCorrect):\n",
    "        label, color = \"No Mask\", (0, 0, 255)\n",
    "    # label = \"Mask\" if mask > max (withoutMask, notCorrect) else \"No Mask\"\n",
    "    # color = (0, 255, 0) if label == \"Mask\" else (0, 0, 255)\n",
    "\n",
    "    # include the probability in the label\n",
    "    label = \"{}: {:.2f}%\".format(label, max(notCorrect, mask, withoutMask) * 100)\n",
    "\n",
    "    # display the label and bounding box rectangle on the output\n",
    "    # frame\n",
    "    cv2.putText(image, label, (startX, startY - 10),\n",
    "        cv2.FONT_HERSHEY_SIMPLEX, 0.45, color, 2)\n",
    "    cv2.rectangle(image, (startX, startY), (endX, endY), color, 2)\n",
    "\n",
    "for (i, (txt, val)) in enumerate(info):\n",
    "    text = '{}: {}'.format(txt, val)\n",
    "    cv2.putText(image, text, (10, (i * 20) + 20),\n",
    "                cv2.FONT_HERSHEY_SIMPLEX, 0.7, COLOR_RED, 2)\n",
    "\n",
    "#save the output image\n",
    "cv2.imwrite('outputs/output_multi.jpg', image)\n",
    "\n",
    "cv2.imshow('', image)\n",
    "cv2.waitKey(0)\n",
    "\n",
    "cv2.destroyAllWindows()\n"
   ]
  },
  {
   "cell_type": "code",
   "execution_count": null,
   "metadata": {},
   "outputs": [],
   "source": [
    "\"\"\"\" Application to a video \"\"\"\""
   ]
  },
  {
   "cell_type": "code",
   "execution_count": 6,
   "metadata": {},
   "outputs": [
    {
     "output_type": "stream",
     "name": "stdout",
     "text": [
      "[i] ==> # detected faces: 3\n",
      "############################################################\n",
      "[i] ==> # detected faces: 4\n",
      "############################################################\n",
      "[i] ==> # detected faces: 4\n",
      "############################################################\n",
      "[i] ==> # detected faces: 4\n",
      "############################################################\n",
      "[i] ==> # detected faces: 4\n",
      "############################################################\n"
     ]
    }
   ],
   "source": [
    "size = 4\n",
    "vs = cv2.VideoCapture('inputs/video/vid.mp4') \n",
    "\n",
    "#out = cv2.VideoWriter('output.avi', fourcc, 20.0, (640, 480))\n",
    "\n",
    "\n",
    "# loop over the frames from the video stream\n",
    "while True:\n",
    "\t# grab the frame from the threaded video stream and resize it\n",
    "\t# to have a maximum width of 400 pixels\n",
    "    ret, frame = vs.read()\n",
    "\n",
    "    #frame = cv2.resize(frame, (frame.shape[1] // size, frame.shape[0] // size))\n",
    "    # Create a 4D blob from a frame.\n",
    "    blob = cv2.dnn.blobFromImage(frame, 1 / 255, (IMG_WIDTH, IMG_HEIGHT), [0, 0, 0], 1, crop=False)\n",
    "\n",
    "    # Sets the input to the network\n",
    "    net.setInput(blob)\n",
    "\n",
    "    # Runs the forward pass to get output of the output layers\n",
    "    outs = net.forward(get_outputs_names(net))\n",
    "\n",
    "    # Remove the bounding boxes with low confidence\n",
    "    faces = post_process(frame, outs, CONF_THRESHOLD, NMS_THRESHOLD)\n",
    "    print('[i] ==> # detected faces: {}'.format(len(faces)))\n",
    "    print('#' * 60)\n",
    "\n",
    "    # initialize the set of information we'll displaying on the frame\n",
    "    info = [\n",
    "        ('number of faces detected', '{}'.format(len(faces)))\n",
    "    ]\n",
    "\n",
    "    for face in faces:\n",
    "        left, top, width, height = face[0], face[1], face[2], face[3]\n",
    "        startX, startY, endX, endY = left, top, left+width, top+height\n",
    "        #(startX, startY) = (max(0, startX), max(0, startY))\n",
    "        #(endX, endY)  = (min(w - 1, endX), min(h -1, endY))\n",
    "        face = frame[startY:endY, startX:endX]\n",
    "        #face = cv2.cvtColor(face, cv2.COLOR_BGR2RGB)\n",
    "        face = cv2.resize(face, (224, 224))\n",
    "        face = img_to_array(face)\n",
    "        #face = preprocess_input(face)\n",
    "        face = np.expand_dims(face, axis=0)\n",
    "\n",
    "        # pass the face through the model to determine if the face\n",
    "        # has a mask or not\n",
    "        (notCorrect, mask, withoutMask ) = model.predict(face)[0]\n",
    "\n",
    "        # determine the class label and color we'll use to draw\n",
    "        # the bounding box and text\n",
    "        if (mask < 0.70 and withoutMask < 0.70) or notCorrect > max(mask, withoutMask):\n",
    "                label, color = \"Not correct\", (0, 255, 255)\n",
    "        elif mask > max (withoutMask, notCorrect):\n",
    "            label, color = \"Mask\", (0, 255,0)\n",
    "        elif withoutMask > max (mask, notCorrect):\n",
    "            label, color = \"No Mask\", (0, 0, 255)\n",
    "        # include the probability in the label\n",
    "        label = \"{}: {:.2f}%\".format(label, max(mask, withoutMask) * 100)\n",
    "\n",
    "        # display the label and bounding box rectangle on the output\n",
    "        # frame\n",
    "        cv2.putText(frame, label, (startX, startY - 10),\n",
    "            cv2.FONT_HERSHEY_SIMPLEX, 0.45, color, 2)\n",
    "        cv2.rectangle(frame, (startX, startY), (endX, endY), color, 2)\n",
    "\n",
    "    for (i, (txt, val)) in enumerate(info):\n",
    "        text = '{}: {}'.format(txt, val)\n",
    "        cv2.putText(frame, text, (10, (i * 20) + 20), cv2.FONT_HERSHEY_SIMPLEX, 0.7, COLOR_RED, 2)\n",
    "    \n",
    "    key = cv2.waitKey(10)\n",
    "    if cv2.waitKey(1) & key==27:\n",
    "        break\n",
    "    # show the output frame\n",
    "    cv2.namedWindow(\"LIVE\", cv2.WND_PROP_FULLSCREEN)\n",
    "    cv2.setWindowProperty(\"LIVE\",cv2.WND_PROP_FULLSCREEN,cv2.WINDOW_FULLSCREEN)\n",
    "    cv2.imshow(\"LIVE\", frame)\n",
    "    key = cv2.waitKey(10)\n",
    "    \n",
    "    # create an output video by appending each frame to it\n",
    "    #out.write(cv2.resize(frame, (1040,880) ))\n",
    "    \n",
    "# Stop video\n",
    "vs.release()\n",
    "\n",
    "# Close all started windows\n",
    "cv2.destroyAllWindows()\n"
   ]
  },
  {
   "cell_type": "code",
   "execution_count": null,
   "metadata": {},
   "outputs": [],
   "source": [
    "\"\"\"\"\" Application to your webcam \"\"\"\"\""
   ]
  },
  {
   "cell_type": "code",
   "execution_count": null,
   "metadata": {},
   "outputs": [],
   "source": []
  },
  {
   "cell_type": "code",
   "execution_count": 7,
   "metadata": {},
   "outputs": [
    {
     "output_type": "stream",
     "name": "stdout",
     "text": [
      "[i] ==> # detected faces: 0\n",
      "############################################################\n",
      "[i] ==> # detected faces: 0\n",
      "############################################################\n",
      "[i] ==> # detected faces: 0\n",
      "############################################################\n",
      "[i] ==> # detected faces: 0\n",
      "############################################################\n",
      "[i] ==> # detected faces: 1\n",
      "############################################################\n",
      "[i] ==> # detected faces: 1\n",
      "############################################################\n",
      "[i] ==> # detected faces: 1\n",
      "############################################################\n",
      "[i] ==> # detected faces: 1\n",
      "############################################################\n"
     ]
    }
   ],
   "source": [
    "cap = cv2.VideoCapture(0) \n",
    "\n",
    "while True:\n",
    "\n",
    "    ret, frame = cap.read()\n",
    "\n",
    "    if not ret:\n",
    "        cv2.waitKey(1000)\n",
    "        break\n",
    "\n",
    "    frame = cv2.resize(frame, (frame.shape[1] // size, frame.shape[0] // size))\n",
    "    # Create a 4D blob from a frame.\n",
    "    blob = cv2.dnn.blobFromImage(frame, 1 / 255, (IMG_WIDTH, IMG_HEIGHT), [0, 0, 0], 1, crop=False)\n",
    "\n",
    "    # Sets the input to the network\n",
    "    net.setInput(blob)\n",
    "\n",
    "    # Runs the forward pass to get output of the output layers\n",
    "    outs = net.forward(get_outputs_names(net))\n",
    "\n",
    "    # Remove the bounding boxes with low confidence\n",
    "    faces = post_process(frame, outs, CONF_THRESHOLD, NMS_THRESHOLD)\n",
    "    print('[i] ==> # detected faces: {}'.format(len(faces)))\n",
    "    print('#' * 60)\n",
    "\n",
    "    # initialize the set of information we'll displaying on the frame\n",
    "    info = [\n",
    "        ('number of faces detected', '{}'.format(len(faces)))\n",
    "    ]\n",
    "\n",
    "    for face in faces:\n",
    "        left, top, width, height = face[0], face[1], face[2], face[3]\n",
    "        startX, startY, endX, endY = left, top, left+width, top+height\n",
    "        face = frame[startY:endY, startX:endX]\n",
    "        face = cv2.cvtColor(face, cv2.COLOR_BGR2RGB)\n",
    "        face = cv2.resize(face, (224, 224))\n",
    "        face = img_to_array(face)\n",
    "        face = preprocess_input(face)\n",
    "        face = np.expand_dims(face, axis=0)\n",
    "\n",
    "        # pass the face through the model to determine if the face\n",
    "        # has a mask or not\n",
    "        (notCorrect, mask, withoutMask) = model.predict(face)[0]\n",
    "\n",
    "        # determine the class label and color we'll use to draw\n",
    "        # the bounding box and text\n",
    "        if notCorrect > max(mask, withoutMask):\n",
    "             label, color = \"Not correct\", (0, 255, 255)\n",
    "        elif mask > max (withoutMask, notCorrect):\n",
    "            label, color = \"Mask\", (0, 255,0)\n",
    "        elif withoutMask > max (mask, notCorrect):\n",
    "            label, color = \"No Mask\", (0, 0, 255)\n",
    "        # include the probability in the label\n",
    "        label = \"{}: {:.2f}%\".format(label, max(mask, withoutMask) * 100)\n",
    "\n",
    "        # display the label and bounding box rectangle on the output\n",
    "        # frame\n",
    "        cv2.putText(frame, label, (startX-30, startY - 10),\n",
    "            cv2.FONT_HERSHEY_SIMPLEX, 0.45, color, 2)\n",
    "        cv2.rectangle(frame, (startX, startY), (endX, endY), color, 2)\n",
    "\n",
    "    # show the output frame\n",
    "    cv2.namedWindow(\"LIVE\", cv2.WND_PROP_FULLSCREEN)\n",
    "    cv2.setWindowProperty(\"LIVE\",cv2.WND_PROP_FULLSCREEN, cv2.WINDOW_FULLSCREEN)\n",
    "    cv2.imshow(\"LIVE\", frame)\n",
    "    key = cv2.waitKey(10)\n",
    "    if key==27:\n",
    "        break\n",
    "# Stop video\n",
    "cap.release()\n",
    "\n",
    "# Close all started windows\n",
    "cv2.destroyAllWindows()\n"
   ]
  },
  {
   "cell_type": "code",
   "execution_count": null,
   "metadata": {},
   "outputs": [],
   "source": []
  }
 ],
 "metadata": {
  "language_info": {
   "codemirror_mode": {
    "name": "ipython",
    "version": 3
   },
   "file_extension": ".py",
   "mimetype": "text/x-python",
   "name": "python",
   "nbconvert_exporter": "python",
   "pygments_lexer": "ipython3",
   "version": "3.7.10"
  },
  "orig_nbformat": 2,
  "kernelspec": {
   "name": "python3710jvsc74a57bd08fa71567c9cf03bd797fc169e3c45bc661e8a20c9e682e4564e6a0db1bfaae81",
   "display_name": "Python 3.7.10 64-bit ('my1virtenv')"
  }
 },
 "nbformat": 4,
 "nbformat_minor": 2
}